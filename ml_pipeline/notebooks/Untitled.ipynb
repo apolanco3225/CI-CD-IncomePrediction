{
 "cells": [
  {
   "cell_type": "code",
   "execution_count": 1,
   "id": "0f4a763d-5a97-4419-b70b-34cf7331f8bf",
   "metadata": {},
   "outputs": [
    {
     "name": "stdout",
     "output_type": "stream",
     "text": [
      "EDA.ipynb             Untitled.ipynb        baseline_model.ipynb\n"
     ]
    }
   ],
   "source": [
    "ls"
   ]
  },
  {
   "cell_type": "code",
   "execution_count": 2,
   "id": "d1ea5250-919c-4fd9-8751-b619835ed9f8",
   "metadata": {},
   "outputs": [
    {
     "name": "stdout",
     "output_type": "stream",
     "text": [
      "Index(['age', 'workclass', 'final_weight', 'education', 'user_education_id',\n",
      "       'marital_status', 'occupation', 'relationship', 'race', 'sex',\n",
      "       'capital_gain', 'capital_loss', 'hours_per_week', 'native_country',\n",
      "       'salary'],\n",
      "      dtype='object')\n"
     ]
    }
   ],
   "source": [
    "import pandas as pd\n",
    "\n",
    "df = pd.read_csv(\"../data/clean_census.csv\")\n",
    "print(df.columns)"
   ]
  },
  {
   "cell_type": "code",
   "execution_count": 3,
   "id": "3667a754-2988-4554-8517-544a1483a47d",
   "metadata": {},
   "outputs": [
    {
     "data": {
      "text/plain": [
       "['age',\n",
       " 'workclass',\n",
       " 'final_weight',\n",
       " 'education',\n",
       " 'user_education_id',\n",
       " 'marital_status',\n",
       " 'occupation',\n",
       " 'relationship',\n",
       " 'race',\n",
       " 'sex',\n",
       " 'capital_gain',\n",
       " 'capital_loss',\n",
       " 'hours_per_week',\n",
       " 'native_country',\n",
       " 'salary']"
      ]
     },
     "execution_count": 3,
     "metadata": {},
     "output_type": "execute_result"
    }
   ],
   "source": [
    "df.columns.tolist()"
   ]
  },
  {
   "cell_type": "code",
   "execution_count": 4,
   "id": "e0513d88-416c-481b-9c3a-ea83798b0c18",
   "metadata": {},
   "outputs": [
    {
     "data": {
      "text/html": [
       "<div>\n",
       "<style scoped>\n",
       "    .dataframe tbody tr th:only-of-type {\n",
       "        vertical-align: middle;\n",
       "    }\n",
       "\n",
       "    .dataframe tbody tr th {\n",
       "        vertical-align: top;\n",
       "    }\n",
       "\n",
       "    .dataframe thead th {\n",
       "        text-align: right;\n",
       "    }\n",
       "</style>\n",
       "<table border=\"1\" class=\"dataframe\">\n",
       "  <thead>\n",
       "    <tr style=\"text-align: right;\">\n",
       "      <th></th>\n",
       "      <th>age</th>\n",
       "      <th>final_weight</th>\n",
       "      <th>user_education_id</th>\n",
       "      <th>capital_gain</th>\n",
       "      <th>capital_loss</th>\n",
       "      <th>hours_per_week</th>\n",
       "    </tr>\n",
       "  </thead>\n",
       "  <tbody>\n",
       "    <tr>\n",
       "      <th>count</th>\n",
       "      <td>30139.000000</td>\n",
       "      <td>3.013900e+04</td>\n",
       "      <td>30139.000000</td>\n",
       "      <td>30139.000000</td>\n",
       "      <td>30139.000000</td>\n",
       "      <td>30139.000000</td>\n",
       "    </tr>\n",
       "    <tr>\n",
       "      <th>mean</th>\n",
       "      <td>38.441720</td>\n",
       "      <td>1.897950e+05</td>\n",
       "      <td>10.122532</td>\n",
       "      <td>1092.841202</td>\n",
       "      <td>88.439928</td>\n",
       "      <td>40.934703</td>\n",
       "    </tr>\n",
       "    <tr>\n",
       "      <th>std</th>\n",
       "      <td>13.131426</td>\n",
       "      <td>1.056586e+05</td>\n",
       "      <td>2.548738</td>\n",
       "      <td>7409.110596</td>\n",
       "      <td>404.445239</td>\n",
       "      <td>11.978753</td>\n",
       "    </tr>\n",
       "    <tr>\n",
       "      <th>min</th>\n",
       "      <td>17.000000</td>\n",
       "      <td>1.376900e+04</td>\n",
       "      <td>1.000000</td>\n",
       "      <td>0.000000</td>\n",
       "      <td>0.000000</td>\n",
       "      <td>1.000000</td>\n",
       "    </tr>\n",
       "    <tr>\n",
       "      <th>25%</th>\n",
       "      <td>28.000000</td>\n",
       "      <td>1.176275e+05</td>\n",
       "      <td>9.000000</td>\n",
       "      <td>0.000000</td>\n",
       "      <td>0.000000</td>\n",
       "      <td>40.000000</td>\n",
       "    </tr>\n",
       "    <tr>\n",
       "      <th>50%</th>\n",
       "      <td>37.000000</td>\n",
       "      <td>1.784170e+05</td>\n",
       "      <td>10.000000</td>\n",
       "      <td>0.000000</td>\n",
       "      <td>0.000000</td>\n",
       "      <td>40.000000</td>\n",
       "    </tr>\n",
       "    <tr>\n",
       "      <th>75%</th>\n",
       "      <td>47.000000</td>\n",
       "      <td>2.376045e+05</td>\n",
       "      <td>13.000000</td>\n",
       "      <td>0.000000</td>\n",
       "      <td>0.000000</td>\n",
       "      <td>45.000000</td>\n",
       "    </tr>\n",
       "    <tr>\n",
       "      <th>max</th>\n",
       "      <td>90.000000</td>\n",
       "      <td>1.484705e+06</td>\n",
       "      <td>16.000000</td>\n",
       "      <td>99999.000000</td>\n",
       "      <td>4356.000000</td>\n",
       "      <td>99.000000</td>\n",
       "    </tr>\n",
       "  </tbody>\n",
       "</table>\n",
       "</div>"
      ],
      "text/plain": [
       "                age  final_weight  user_education_id  capital_gain  \\\n",
       "count  30139.000000  3.013900e+04       30139.000000  30139.000000   \n",
       "mean      38.441720  1.897950e+05          10.122532   1092.841202   \n",
       "std       13.131426  1.056586e+05           2.548738   7409.110596   \n",
       "min       17.000000  1.376900e+04           1.000000      0.000000   \n",
       "25%       28.000000  1.176275e+05           9.000000      0.000000   \n",
       "50%       37.000000  1.784170e+05          10.000000      0.000000   \n",
       "75%       47.000000  2.376045e+05          13.000000      0.000000   \n",
       "max       90.000000  1.484705e+06          16.000000  99999.000000   \n",
       "\n",
       "       capital_loss  hours_per_week  \n",
       "count  30139.000000    30139.000000  \n",
       "mean      88.439928       40.934703  \n",
       "std      404.445239       11.978753  \n",
       "min        0.000000        1.000000  \n",
       "25%        0.000000       40.000000  \n",
       "50%        0.000000       40.000000  \n",
       "75%        0.000000       45.000000  \n",
       "max     4356.000000       99.000000  "
      ]
     },
     "execution_count": 4,
     "metadata": {},
     "output_type": "execute_result"
    }
   ],
   "source": [
    "df.describe()"
   ]
  },
  {
   "cell_type": "code",
   "execution_count": 5,
   "id": "c43f184f-0264-45ca-8fe7-7b721187a50a",
   "metadata": {},
   "outputs": [
    {
     "data": {
      "text/plain": [
       "age                                  17\n",
       "workclass                   Federal-gov\n",
       "final_weight                      13769\n",
       "education                          10th\n",
       "user_education_id                     1\n",
       "marital_status                 Divorced\n",
       "occupation                 Adm-clerical\n",
       "relationship                    Husband\n",
       "race                 Amer-Indian-Eskimo\n",
       "sex                              Female\n",
       "capital_gain                          0\n",
       "capital_loss                          0\n",
       "hours_per_week                        1\n",
       "native_country                 Cambodia\n",
       "salary                            <=50K\n",
       "dtype: object"
      ]
     },
     "execution_count": 5,
     "metadata": {},
     "output_type": "execute_result"
    }
   ],
   "source": [
    "df.min()"
   ]
  },
  {
   "cell_type": "code",
   "execution_count": 14,
   "id": "41f73bfa-7149-4f9a-a431-65cabb054181",
   "metadata": {},
   "outputs": [
    {
     "name": "stdout",
     "output_type": "stream",
     "text": [
      "workclass\n",
      "['State-gov' 'Self-emp-not-inc' 'Private' 'Federal-gov' 'Local-gov'\n",
      " 'Self-emp-inc' 'Without-pay']\n",
      "********************\n",
      "education\n",
      "['Bachelors' 'HS-grad' '11th' 'Masters' '9th' 'Some-college' 'Assoc-acdm'\n",
      " '7th-8th' 'Doctorate' 'Assoc-voc' 'Prof-school' '5th-6th' '10th'\n",
      " 'Preschool' '12th' '1st-4th']\n",
      "********************\n",
      "marital_status\n",
      "['Never-married' 'Married-civ-spouse' 'Divorced' 'Married-spouse-absent'\n",
      " 'Separated' 'Married-AF-spouse' 'Widowed']\n",
      "********************\n",
      "occupation\n",
      "['Adm-clerical' 'Exec-managerial' 'Handlers-cleaners' 'Prof-specialty'\n",
      " 'Other-service' 'Sales' 'Transport-moving' 'Farming-fishing'\n",
      " 'Machine-op-inspct' 'Tech-support' 'Craft-repair' 'Protective-serv'\n",
      " 'Armed-Forces' 'Priv-house-serv']\n",
      "********************\n",
      "relationship\n",
      "['Not-in-family' 'Husband' 'Wife' 'Own-child' 'Unmarried' 'Other-relative']\n",
      "********************\n",
      "race\n",
      "['White' 'Black' 'Asian-Pac-Islander' 'Amer-Indian-Eskimo' 'Other']\n",
      "********************\n",
      "sex\n",
      "['Male' 'Female']\n",
      "********************\n",
      "native_country\n",
      "['United-States' 'Cuba' 'Jamaica' 'India' 'Mexico' 'Puerto-Rico'\n",
      " 'Honduras' 'England' 'Canada' 'Germany' 'Iran' 'Philippines' 'Poland'\n",
      " 'Columbia' 'Cambodia' 'Thailand' 'Ecuador' 'Laos' 'Taiwan' 'Haiti'\n",
      " 'Portugal' 'Dominican-Republic' 'El-Salvador' 'France' 'Guatemala'\n",
      " 'Italy' 'China' 'South' 'Japan' 'Yugoslavia' 'Peru'\n",
      " 'Outlying-US(Guam-USVI-etc)' 'Scotland' 'Trinadad&Tobago' 'Greece'\n",
      " 'Nicaragua' 'Vietnam' 'Hong' 'Ireland' 'Hungary' 'Holand-Netherlands']\n",
      "********************\n"
     ]
    }
   ],
   "source": [
    "cat_features = [\n",
    "      \"workclass\",\n",
    "      \"education\",\n",
    "      \"marital_status\",\n",
    "      \"occupation\",\n",
    "      \"relationship\",\n",
    "      \"race\",\n",
    "      \"sex\",\n",
    "      \"native_country\",\n",
    "]\n",
    "\n",
    "cat_values_dict = {}\n",
    "\n",
    "for feature in cat_features:\n",
    "    print(feature)\n",
    "    print(df[feature].unique())\n",
    "    cat_values_dict[feature] = df[feature].unique().tolist()\n",
    "    print(\"*\"*20)"
   ]
  },
  {
   "cell_type": "code",
   "execution_count": 15,
   "id": "6cb234dd-374e-4e81-a01a-957e0349139f",
   "metadata": {},
   "outputs": [
    {
     "data": {
      "text/plain": [
       "['State-gov',\n",
       " 'Self-emp-not-inc',\n",
       " 'Private',\n",
       " 'Federal-gov',\n",
       " 'Local-gov',\n",
       " 'Self-emp-inc',\n",
       " 'Without-pay']"
      ]
     },
     "execution_count": 15,
     "metadata": {},
     "output_type": "execute_result"
    }
   ],
   "source": [
    "cat_values_dict[\"workclass\"]"
   ]
  },
  {
   "cell_type": "code",
   "execution_count": 16,
   "id": "a55bbe6a-4532-4440-b44f-154769a5c1c2",
   "metadata": {},
   "outputs": [
    {
     "data": {
      "text/plain": [
       "{'workclass': ['State-gov',\n",
       "  'Self-emp-not-inc',\n",
       "  'Private',\n",
       "  'Federal-gov',\n",
       "  'Local-gov',\n",
       "  'Self-emp-inc',\n",
       "  'Without-pay'],\n",
       " 'education': ['Bachelors',\n",
       "  'HS-grad',\n",
       "  '11th',\n",
       "  'Masters',\n",
       "  '9th',\n",
       "  'Some-college',\n",
       "  'Assoc-acdm',\n",
       "  '7th-8th',\n",
       "  'Doctorate',\n",
       "  'Assoc-voc',\n",
       "  'Prof-school',\n",
       "  '5th-6th',\n",
       "  '10th',\n",
       "  'Preschool',\n",
       "  '12th',\n",
       "  '1st-4th'],\n",
       " 'marital_status': ['Never-married',\n",
       "  'Married-civ-spouse',\n",
       "  'Divorced',\n",
       "  'Married-spouse-absent',\n",
       "  'Separated',\n",
       "  'Married-AF-spouse',\n",
       "  'Widowed'],\n",
       " 'occupation': ['Adm-clerical',\n",
       "  'Exec-managerial',\n",
       "  'Handlers-cleaners',\n",
       "  'Prof-specialty',\n",
       "  'Other-service',\n",
       "  'Sales',\n",
       "  'Transport-moving',\n",
       "  'Farming-fishing',\n",
       "  'Machine-op-inspct',\n",
       "  'Tech-support',\n",
       "  'Craft-repair',\n",
       "  'Protective-serv',\n",
       "  'Armed-Forces',\n",
       "  'Priv-house-serv'],\n",
       " 'relationship': ['Not-in-family',\n",
       "  'Husband',\n",
       "  'Wife',\n",
       "  'Own-child',\n",
       "  'Unmarried',\n",
       "  'Other-relative'],\n",
       " 'race': ['White',\n",
       "  'Black',\n",
       "  'Asian-Pac-Islander',\n",
       "  'Amer-Indian-Eskimo',\n",
       "  'Other'],\n",
       " 'sex': ['Male', 'Female'],\n",
       " 'native_country': ['United-States',\n",
       "  'Cuba',\n",
       "  'Jamaica',\n",
       "  'India',\n",
       "  'Mexico',\n",
       "  'Puerto-Rico',\n",
       "  'Honduras',\n",
       "  'England',\n",
       "  'Canada',\n",
       "  'Germany',\n",
       "  'Iran',\n",
       "  'Philippines',\n",
       "  'Poland',\n",
       "  'Columbia',\n",
       "  'Cambodia',\n",
       "  'Thailand',\n",
       "  'Ecuador',\n",
       "  'Laos',\n",
       "  'Taiwan',\n",
       "  'Haiti',\n",
       "  'Portugal',\n",
       "  'Dominican-Republic',\n",
       "  'El-Salvador',\n",
       "  'France',\n",
       "  'Guatemala',\n",
       "  'Italy',\n",
       "  'China',\n",
       "  'South',\n",
       "  'Japan',\n",
       "  'Yugoslavia',\n",
       "  'Peru',\n",
       "  'Outlying-US(Guam-USVI-etc)',\n",
       "  'Scotland',\n",
       "  'Trinadad&Tobago',\n",
       "  'Greece',\n",
       "  'Nicaragua',\n",
       "  'Vietnam',\n",
       "  'Hong',\n",
       "  'Ireland',\n",
       "  'Hungary',\n",
       "  'Holand-Netherlands']}"
      ]
     },
     "execution_count": 16,
     "metadata": {},
     "output_type": "execute_result"
    }
   ],
   "source": [
    "cat_values_dict"
   ]
  },
  {
   "cell_type": "code",
   "execution_count": 18,
   "id": "6cc24ad8-b6be-4027-9691-4715bbd2b064",
   "metadata": {},
   "outputs": [
    {
     "name": "stdout",
     "output_type": "stream",
     "text": [
      "workclass: ['State-gov', 'Self-emp-not-inc', 'Private', 'Federal-gov', 'Local-gov', 'Self-emp-inc', 'Without-pay'] \n",
      "\n",
      "education: ['Bachelors', 'HS-grad', '11th', 'Masters', '9th', 'Some-college', 'Assoc-acdm', '7th-8th', 'Doctorate', 'Assoc-voc', 'Prof-school', '5th-6th', '10th', 'Preschool', '12th', '1st-4th'] \n",
      "\n",
      "marital_status: ['Never-married', 'Married-civ-spouse', 'Divorced', 'Married-spouse-absent', 'Separated', 'Married-AF-spouse', 'Widowed'] \n",
      "\n",
      "occupation: ['Adm-clerical', 'Exec-managerial', 'Handlers-cleaners', 'Prof-specialty', 'Other-service', 'Sales', 'Transport-moving', 'Farming-fishing', 'Machine-op-inspct', 'Tech-support', 'Craft-repair', 'Protective-serv', 'Armed-Forces', 'Priv-house-serv'] \n",
      "\n",
      "relationship: ['Not-in-family', 'Husband', 'Wife', 'Own-child', 'Unmarried', 'Other-relative'] \n",
      "\n",
      "race: ['White', 'Black', 'Asian-Pac-Islander', 'Amer-Indian-Eskimo', 'Other'] \n",
      "\n",
      "sex: ['Male', 'Female'] \n",
      "\n",
      "native_country: ['United-States', 'Cuba', 'Jamaica', 'India', 'Mexico', 'Puerto-Rico', 'Honduras', 'England', 'Canada', 'Germany', 'Iran', 'Philippines', 'Poland', 'Columbia', 'Cambodia', 'Thailand', 'Ecuador', 'Laos', 'Taiwan', 'Haiti', 'Portugal', 'Dominican-Republic', 'El-Salvador', 'France', 'Guatemala', 'Italy', 'China', 'South', 'Japan', 'Yugoslavia', 'Peru', 'Outlying-US(Guam-USVI-etc)', 'Scotland', 'Trinadad&Tobago', 'Greece', 'Nicaragua', 'Vietnam', 'Hong', 'Ireland', 'Hungary', 'Holand-Netherlands'] \n",
      "\n"
     ]
    }
   ],
   "source": [
    "for feature, value in cat_values_dict.items():\n",
    "    print(f\"{feature}: {value} \\n\")"
   ]
  },
  {
   "cell_type": "code",
   "execution_count": 20,
   "id": "dd4e1235-5666-4ebb-86cb-f3dc05279560",
   "metadata": {},
   "outputs": [
    {
     "data": {
      "text/plain": [
       "(30139, 15)"
      ]
     },
     "execution_count": 20,
     "metadata": {},
     "output_type": "execute_result"
    }
   ],
   "source": [
    "df.shape"
   ]
  },
  {
   "cell_type": "code",
   "execution_count": null,
   "id": "ea97abdd-aa91-428f-a9da-cacf7edfc5f0",
   "metadata": {},
   "outputs": [],
   "source": []
  }
 ],
 "metadata": {
  "kernelspec": {
   "display_name": "Python 3.6.13 64-bit ('mlops': conda)",
   "language": "python",
   "name": "python3613jvsc74a57bd0ca9cbc678ce4b6edf4607da2742a10dd8519fe2f3e82dadaab70e9238baed1d4"
  },
  "language_info": {
   "codemirror_mode": {
    "name": "ipython",
    "version": 3
   },
   "file_extension": ".py",
   "mimetype": "text/x-python",
   "name": "python",
   "nbconvert_exporter": "python",
   "pygments_lexer": "ipython3",
   "version": "3.6.13"
  }
 },
 "nbformat": 4,
 "nbformat_minor": 5
}
