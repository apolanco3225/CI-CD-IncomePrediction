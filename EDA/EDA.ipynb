{
 "cells": [
  {
   "cell_type": "markdown",
   "id": "1c9a81e4-c515-463a-abdc-591928009379",
   "metadata": {},
   "source": [
    "## Exploratory Data Analysis Census Income Data Set "
   ]
  },
  {
   "cell_type": "code",
   "execution_count": 1,
   "id": "38d4e776-2ddf-4fed-9ac2-f35b2963c0cf",
   "metadata": {},
   "outputs": [],
   "source": [
    "import numpy as np\n",
    "import pandas as pd\n",
    "from pandas_profiling import ProfileReport\n",
    "import matplotlib.pyplot as plt"
   ]
  },
  {
   "cell_type": "code",
   "execution_count": 2,
   "id": "a26b2188-65ff-434b-9bf5-ed1139513b33",
   "metadata": {},
   "outputs": [
    {
     "data": {
      "text/html": [
       "<div>\n",
       "<style scoped>\n",
       "    .dataframe tbody tr th:only-of-type {\n",
       "        vertical-align: middle;\n",
       "    }\n",
       "\n",
       "    .dataframe tbody tr th {\n",
       "        vertical-align: top;\n",
       "    }\n",
       "\n",
       "    .dataframe thead th {\n",
       "        text-align: right;\n",
       "    }\n",
       "</style>\n",
       "<table border=\"1\" class=\"dataframe\">\n",
       "  <thead>\n",
       "    <tr style=\"text-align: right;\">\n",
       "      <th></th>\n",
       "      <th>age</th>\n",
       "      <th>workclass</th>\n",
       "      <th>fnlgt</th>\n",
       "      <th>education</th>\n",
       "      <th>education-num</th>\n",
       "      <th>marital-status</th>\n",
       "      <th>occupation</th>\n",
       "      <th>relationship</th>\n",
       "      <th>race</th>\n",
       "      <th>sex</th>\n",
       "      <th>capital-gain</th>\n",
       "      <th>capital-loss</th>\n",
       "      <th>hours-per-week</th>\n",
       "      <th>native-country</th>\n",
       "      <th>salary</th>\n",
       "    </tr>\n",
       "  </thead>\n",
       "  <tbody>\n",
       "    <tr>\n",
       "      <th>0</th>\n",
       "      <td>39</td>\n",
       "      <td>State-gov</td>\n",
       "      <td>77516</td>\n",
       "      <td>Bachelors</td>\n",
       "      <td>13</td>\n",
       "      <td>Never-married</td>\n",
       "      <td>Adm-clerical</td>\n",
       "      <td>Not-in-family</td>\n",
       "      <td>White</td>\n",
       "      <td>Male</td>\n",
       "      <td>2174</td>\n",
       "      <td>0</td>\n",
       "      <td>40</td>\n",
       "      <td>United-States</td>\n",
       "      <td>&lt;=50K</td>\n",
       "    </tr>\n",
       "    <tr>\n",
       "      <th>1</th>\n",
       "      <td>50</td>\n",
       "      <td>Self-emp-not-inc</td>\n",
       "      <td>83311</td>\n",
       "      <td>Bachelors</td>\n",
       "      <td>13</td>\n",
       "      <td>Married-civ-spouse</td>\n",
       "      <td>Exec-managerial</td>\n",
       "      <td>Husband</td>\n",
       "      <td>White</td>\n",
       "      <td>Male</td>\n",
       "      <td>0</td>\n",
       "      <td>0</td>\n",
       "      <td>13</td>\n",
       "      <td>United-States</td>\n",
       "      <td>&lt;=50K</td>\n",
       "    </tr>\n",
       "    <tr>\n",
       "      <th>2</th>\n",
       "      <td>38</td>\n",
       "      <td>Private</td>\n",
       "      <td>215646</td>\n",
       "      <td>HS-grad</td>\n",
       "      <td>9</td>\n",
       "      <td>Divorced</td>\n",
       "      <td>Handlers-cleaners</td>\n",
       "      <td>Not-in-family</td>\n",
       "      <td>White</td>\n",
       "      <td>Male</td>\n",
       "      <td>0</td>\n",
       "      <td>0</td>\n",
       "      <td>40</td>\n",
       "      <td>United-States</td>\n",
       "      <td>&lt;=50K</td>\n",
       "    </tr>\n",
       "    <tr>\n",
       "      <th>3</th>\n",
       "      <td>53</td>\n",
       "      <td>Private</td>\n",
       "      <td>234721</td>\n",
       "      <td>11th</td>\n",
       "      <td>7</td>\n",
       "      <td>Married-civ-spouse</td>\n",
       "      <td>Handlers-cleaners</td>\n",
       "      <td>Husband</td>\n",
       "      <td>Black</td>\n",
       "      <td>Male</td>\n",
       "      <td>0</td>\n",
       "      <td>0</td>\n",
       "      <td>40</td>\n",
       "      <td>United-States</td>\n",
       "      <td>&lt;=50K</td>\n",
       "    </tr>\n",
       "    <tr>\n",
       "      <th>4</th>\n",
       "      <td>28</td>\n",
       "      <td>Private</td>\n",
       "      <td>338409</td>\n",
       "      <td>Bachelors</td>\n",
       "      <td>13</td>\n",
       "      <td>Married-civ-spouse</td>\n",
       "      <td>Prof-specialty</td>\n",
       "      <td>Wife</td>\n",
       "      <td>Black</td>\n",
       "      <td>Female</td>\n",
       "      <td>0</td>\n",
       "      <td>0</td>\n",
       "      <td>40</td>\n",
       "      <td>Cuba</td>\n",
       "      <td>&lt;=50K</td>\n",
       "    </tr>\n",
       "  </tbody>\n",
       "</table>\n",
       "</div>"
      ],
      "text/plain": [
       "   age          workclass   fnlgt   education   education-num  \\\n",
       "0   39          State-gov   77516   Bachelors              13   \n",
       "1   50   Self-emp-not-inc   83311   Bachelors              13   \n",
       "2   38            Private  215646     HS-grad               9   \n",
       "3   53            Private  234721        11th               7   \n",
       "4   28            Private  338409   Bachelors              13   \n",
       "\n",
       "        marital-status          occupation    relationship    race      sex  \\\n",
       "0        Never-married        Adm-clerical   Not-in-family   White     Male   \n",
       "1   Married-civ-spouse     Exec-managerial         Husband   White     Male   \n",
       "2             Divorced   Handlers-cleaners   Not-in-family   White     Male   \n",
       "3   Married-civ-spouse   Handlers-cleaners         Husband   Black     Male   \n",
       "4   Married-civ-spouse      Prof-specialty            Wife   Black   Female   \n",
       "\n",
       "    capital-gain   capital-loss   hours-per-week  native-country  salary  \n",
       "0           2174              0               40   United-States   <=50K  \n",
       "1              0              0               13   United-States   <=50K  \n",
       "2              0              0               40   United-States   <=50K  \n",
       "3              0              0               40   United-States   <=50K  \n",
       "4              0              0               40            Cuba   <=50K  "
      ]
     },
     "execution_count": 2,
     "metadata": {},
     "output_type": "execute_result"
    }
   ],
   "source": [
    "df = pd.read_csv(\"../data/census.csv\")\n",
    "df.head()"
   ]
  },
  {
   "cell_type": "markdown",
   "id": "318834f4-ebe7-4659-85fd-ad4d426200e0",
   "metadata": {},
   "source": [
    "The datasets contains 32561 and 15 columns"
   ]
  },
  {
   "cell_type": "code",
   "execution_count": 3,
   "id": "21111466-ed4c-441c-a7d3-fcbe69a3e53d",
   "metadata": {},
   "outputs": [
    {
     "name": "stdout",
     "output_type": "stream",
     "text": [
      "(32561, 15)\n"
     ]
    }
   ],
   "source": [
    "print(df.shape)"
   ]
  },
  {
   "cell_type": "markdown",
   "id": "b4fdd682-b98c-43a4-8a14-d3ccb43d0945",
   "metadata": {},
   "source": [
    "Some processing to the name of the columns"
   ]
  },
  {
   "cell_type": "code",
   "execution_count": 4,
   "id": "7f5a9a6e-323e-4372-8efd-8e895c22d9db",
   "metadata": {},
   "outputs": [
    {
     "data": {
      "text/plain": [
       "Index(['age', ' workclass', ' fnlgt', ' education', ' education-num',\n",
       "       ' marital-status', ' occupation', ' relationship', ' race', ' sex',\n",
       "       ' capital-gain', ' capital-loss', ' hours-per-week', ' native-country',\n",
       "       ' salary'],\n",
       "      dtype='object')"
      ]
     },
     "execution_count": 4,
     "metadata": {},
     "output_type": "execute_result"
    }
   ],
   "source": [
    "df.columns"
   ]
  },
  {
   "cell_type": "code",
   "execution_count": 5,
   "id": "e07aed90-a2bb-4f08-9b6d-b1eb26a90fee",
   "metadata": {},
   "outputs": [
    {
     "name": "stdout",
     "output_type": "stream",
     "text": [
      "['age', 'workclass', 'fnlgt', 'education', 'education_num', 'marital_status', 'occupation', 'relationship', 'race', 'sex', 'capital_gain', 'capital_loss', 'hours_per_week', 'native_country', 'salary']\n"
     ]
    }
   ],
   "source": [
    "def column_processing(column):\n",
    "    column = column.replace(\" \", \"\")\n",
    "    column = column.replace(\"-\", \"_\")\n",
    "    return column\n",
    "    \n",
    "new_columns = map(column_processing, df.columns)\n",
    "new_columns = list(new_columns)\n",
    "print(new_columns)"
   ]
  },
  {
   "cell_type": "code",
   "execution_count": 6,
   "id": "f4e1aeef-d9dc-47bc-af81-4a1f13935409",
   "metadata": {},
   "outputs": [],
   "source": [
    "df.columns = new_columns"
   ]
  },
  {
   "cell_type": "markdown",
   "id": "41456a39-8e4f-421d-8231-4a75f47eee03",
   "metadata": {},
   "source": [
    "Exploring the column data types"
   ]
  },
  {
   "cell_type": "code",
   "execution_count": 7,
   "id": "81cac22b-fe3b-44f6-a410-a9e2ae542187",
   "metadata": {},
   "outputs": [
    {
     "name": "stdout",
     "output_type": "stream",
     "text": [
      "<class 'pandas.core.frame.DataFrame'>\n",
      "RangeIndex: 32561 entries, 0 to 32560\n",
      "Data columns (total 15 columns):\n",
      " #   Column          Non-Null Count  Dtype \n",
      "---  ------          --------------  ----- \n",
      " 0   age             32561 non-null  int64 \n",
      " 1   workclass       32561 non-null  object\n",
      " 2   fnlgt           32561 non-null  int64 \n",
      " 3   education       32561 non-null  object\n",
      " 4   education_num   32561 non-null  int64 \n",
      " 5   marital_status  32561 non-null  object\n",
      " 6   occupation      32561 non-null  object\n",
      " 7   relationship    32561 non-null  object\n",
      " 8   race            32561 non-null  object\n",
      " 9   sex             32561 non-null  object\n",
      " 10  capital_gain    32561 non-null  int64 \n",
      " 11  capital_loss    32561 non-null  int64 \n",
      " 12  hours_per_week  32561 non-null  int64 \n",
      " 13  native_country  32561 non-null  object\n",
      " 14  salary          32561 non-null  object\n",
      "dtypes: int64(6), object(9)\n",
      "memory usage: 3.7+ MB\n"
     ]
    }
   ],
   "source": [
    "df.info()"
   ]
  },
  {
   "cell_type": "markdown",
   "id": "155682ca-c9de-4192-bde5-595b6269756a",
   "metadata": {},
   "source": [
    "I'm going to rename some columns to make them more clear:"
   ]
  },
  {
   "cell_type": "code",
   "execution_count": 8,
   "id": "43200749-b999-4b33-96ac-df41c3cc70e6",
   "metadata": {},
   "outputs": [],
   "source": [
    "df.rename(\n",
    "    columns={\n",
    "        \"fnlgt\":\"final_weight\",\n",
    "        \"education_num\":\"user_education_id\",\n",
    "    }, \n",
    "    inplace=True\n",
    ")"
   ]
  },
  {
   "cell_type": "markdown",
   "id": "8d13acda-7189-4c56-96c4-fa375c073a84",
   "metadata": {},
   "source": [
    "Checking for null values"
   ]
  },
  {
   "cell_type": "code",
   "execution_count": 9,
   "id": "adac1cd5-513b-4c8f-999b-3b0f2fcbd707",
   "metadata": {},
   "outputs": [
    {
     "data": {
      "text/plain": [
       "age                  0\n",
       "workclass            0\n",
       "final_weight         0\n",
       "education            0\n",
       "user_education_id    0\n",
       "marital_status       0\n",
       "occupation           0\n",
       "relationship         0\n",
       "race                 0\n",
       "sex                  0\n",
       "capital_gain         0\n",
       "capital_loss         0\n",
       "hours_per_week       0\n",
       "native_country       0\n",
       "salary               0\n",
       "dtype: int64"
      ]
     },
     "execution_count": 9,
     "metadata": {},
     "output_type": "execute_result"
    }
   ],
   "source": [
    "df.isnull().sum()"
   ]
  },
  {
   "cell_type": "markdown",
   "id": "e91e4cdc-9e76-4d17-a1c1-9800e1bd332b",
   "metadata": {},
   "source": [
    "According to this report, there are no null values in the dataframe. This doesn't mean all the values in the rows are valid, let's explore the content of this dataset."
   ]
  },
  {
   "cell_type": "markdown",
   "id": "1f4219de-c6a5-41ed-b078-d3bcfc1a5238",
   "metadata": {},
   "source": [
    "Exploring unbalanced target variable"
   ]
  },
  {
   "cell_type": "code",
   "execution_count": 10,
   "id": "273de5c3-b61d-4d05-b1e0-af5c255e37d8",
   "metadata": {},
   "outputs": [
    {
     "data": {
      "image/png": "[encoded data removed]",
      "text/plain": [
       "<Figure size 432x288 with 1 Axes>"
      ]
     },
     "metadata": {
      "needs_background": "light"
     },
     "output_type": "display_data"
    }
   ],
   "source": [
    "df.salary.value_counts().plot(kind=\"bar\", title=\"Salary\")\n",
    "plt.xlabel(\"Classes\")\n",
    "plt.ylabel(\"Number of Samples\");"
   ]
  },
  {
   "cell_type": "markdown",
   "id": "eb4e35f6-fe7c-444f-a41c-4289ef60c7d4",
   "metadata": {},
   "source": [
    "There are more records of people who earn less than 50k. Now I'll check the distribution of predictors"
   ]
  },
  {
   "cell_type": "code",
   "execution_count": 11,
   "id": "90a6f89f-292f-4f27-a867-a4cb378cfecf",
   "metadata": {},
   "outputs": [
    {
     "data": {
      "text/plain": [
       "array([' <=50K', ' >50K'], dtype=object)"
      ]
     },
     "execution_count": 11,
     "metadata": {},
     "output_type": "execute_result"
    }
   ],
   "source": [
    "df.salary.unique()"
   ]
  },
  {
   "cell_type": "markdown",
   "id": "7fb25140-9c08-4eff-bbf5-06b21bae90c7",
   "metadata": {},
   "source": [
    "I found out that there is a white space at the beginning of some records, this is not a huge problem but I can easily remove it using pandas so I can query the data later easily:"
   ]
  },
  {
   "cell_type": "code",
   "execution_count": 12,
   "id": "4bd54ed6-4243-4ba2-998d-24d72ed70988",
   "metadata": {},
   "outputs": [
    {
     "data": {
      "text/plain": [
       "array(['<=50K', '>50K'], dtype=object)"
      ]
     },
     "execution_count": 12,
     "metadata": {},
     "output_type": "execute_result"
    }
   ],
   "source": [
    "df.replace(' ', '', regex=True, inplace=True)\n",
    "df.salary.unique()"
   ]
  },
  {
   "cell_type": "markdown",
   "id": "84d30862-697e-4c54-981a-578282fdb9b8",
   "metadata": {},
   "source": [
    "I can proceed analyzing the distribution of the numerical values:"
   ]
  },
  {
   "cell_type": "code",
   "execution_count": 17,
   "id": "bd157a5d-387c-4818-855e-9ef5760535e9",
   "metadata": {},
   "outputs": [
    {
     "data": {
      "image/png": "[encoded data removed]",
      "text/plain": [
       "<Figure size 1440x720 with 6 Axes>"
      ]
     },
     "metadata": {
      "needs_background": "light"
     },
     "output_type": "display_data"
    }
   ],
   "source": [
    "df.hist(figsize=(20, 10));"
   ]
  },
  {
   "cell_type": "code",
   "execution_count": 18,
   "id": "f43df2b2-0e45-4b73-bc63-c38b7cc908f0",
   "metadata": {},
   "outputs": [
    {
     "data": {
      "text/html": [
       "<div>\n",
       "<style scoped>\n",
       "    .dataframe tbody tr th:only-of-type {\n",
       "        vertical-align: middle;\n",
       "    }\n",
       "\n",
       "    .dataframe tbody tr th {\n",
       "        vertical-align: top;\n",
       "    }\n",
       "\n",
       "    .dataframe thead th {\n",
       "        text-align: right;\n",
       "    }\n",
       "</style>\n",
       "<table border=\"1\" class=\"dataframe\">\n",
       "  <thead>\n",
       "    <tr style=\"text-align: right;\">\n",
       "      <th></th>\n",
       "      <th>age</th>\n",
       "      <th>final_weight</th>\n",
       "      <th>user_education_id</th>\n",
       "      <th>capital_gain</th>\n",
       "      <th>capital_loss</th>\n",
       "      <th>hours_per_week</th>\n",
       "    </tr>\n",
       "  </thead>\n",
       "  <tbody>\n",
       "    <tr>\n",
       "      <th>count</th>\n",
       "      <td>32561.000000</td>\n",
       "      <td>3.256100e+04</td>\n",
       "      <td>32561.000000</td>\n",
       "      <td>32561.000000</td>\n",
       "      <td>32561.000000</td>\n",
       "      <td>32561.000000</td>\n",
       "    </tr>\n",
       "    <tr>\n",
       "      <th>mean</th>\n",
       "      <td>38.581647</td>\n",
       "      <td>1.897784e+05</td>\n",
       "      <td>10.080679</td>\n",
       "      <td>1077.648844</td>\n",
       "      <td>87.303830</td>\n",
       "      <td>40.437456</td>\n",
       "    </tr>\n",
       "    <tr>\n",
       "      <th>std</th>\n",
       "      <td>13.640433</td>\n",
       "      <td>1.055500e+05</td>\n",
       "      <td>2.572720</td>\n",
       "      <td>7385.292085</td>\n",
       "      <td>402.960219</td>\n",
       "      <td>12.347429</td>\n",
       "    </tr>\n",
       "    <tr>\n",
       "      <th>min</th>\n",
       "      <td>17.000000</td>\n",
       "      <td>1.228500e+04</td>\n",
       "      <td>1.000000</td>\n",
       "      <td>0.000000</td>\n",
       "      <td>0.000000</td>\n",
       "      <td>1.000000</td>\n",
       "    </tr>\n",
       "    <tr>\n",
       "      <th>25%</th>\n",
       "      <td>28.000000</td>\n",
       "      <td>1.178270e+05</td>\n",
       "      <td>9.000000</td>\n",
       "      <td>0.000000</td>\n",
       "      <td>0.000000</td>\n",
       "      <td>40.000000</td>\n",
       "    </tr>\n",
       "    <tr>\n",
       "      <th>50%</th>\n",
       "      <td>37.000000</td>\n",
       "      <td>1.783560e+05</td>\n",
       "      <td>10.000000</td>\n",
       "      <td>0.000000</td>\n",
       "      <td>0.000000</td>\n",
       "      <td>40.000000</td>\n",
       "    </tr>\n",
       "    <tr>\n",
       "      <th>75%</th>\n",
       "      <td>48.000000</td>\n",
       "      <td>2.370510e+05</td>\n",
       "      <td>12.000000</td>\n",
       "      <td>0.000000</td>\n",
       "      <td>0.000000</td>\n",
       "      <td>45.000000</td>\n",
       "    </tr>\n",
       "    <tr>\n",
       "      <th>max</th>\n",
       "      <td>90.000000</td>\n",
       "      <td>1.484705e+06</td>\n",
       "      <td>16.000000</td>\n",
       "      <td>99999.000000</td>\n",
       "      <td>4356.000000</td>\n",
       "      <td>99.000000</td>\n",
       "    </tr>\n",
       "  </tbody>\n",
       "</table>\n",
       "</div>"
      ],
      "text/plain": [
       "                age  final_weight  user_education_id  capital_gain  \\\n",
       "count  32561.000000  3.256100e+04       32561.000000  32561.000000   \n",
       "mean      38.581647  1.897784e+05          10.080679   1077.648844   \n",
       "std       13.640433  1.055500e+05           2.572720   7385.292085   \n",
       "min       17.000000  1.228500e+04           1.000000      0.000000   \n",
       "25%       28.000000  1.178270e+05           9.000000      0.000000   \n",
       "50%       37.000000  1.783560e+05          10.000000      0.000000   \n",
       "75%       48.000000  2.370510e+05          12.000000      0.000000   \n",
       "max       90.000000  1.484705e+06          16.000000  99999.000000   \n",
       "\n",
       "       capital_loss  hours_per_week  \n",
       "count  32561.000000    32561.000000  \n",
       "mean      87.303830       40.437456  \n",
       "std      402.960219       12.347429  \n",
       "min        0.000000        1.000000  \n",
       "25%        0.000000       40.000000  \n",
       "50%        0.000000       40.000000  \n",
       "75%        0.000000       45.000000  \n",
       "max     4356.000000       99.000000  "
      ]
     },
     "execution_count": 18,
     "metadata": {},
     "output_type": "execute_result"
    }
   ],
   "source": [
    "df.describe()"
   ]
  },
  {
   "cell_type": "code",
   "execution_count": 20,
   "id": "7fae8660-18fe-47ac-8894-22eed40bea5d",
   "metadata": {},
   "outputs": [
    {
     "data": {
      "text/plain": [
       "<AxesSubplot:>"
      ]
     },
     "execution_count": 20,
     "metadata": {},
     "output_type": "execute_result"
    },
    {
     "data": {
      "image/png": "[encoded data removed]",
      "text/plain": [
       "<Figure size 1440x1440 with 1 Axes>"
      ]
     },
     "metadata": {
      "needs_background": "light"
     },
     "output_type": "display_data"
    }
   ],
   "source": [
    "df.plot(kind=\"box\", figsize=(20, 20))"
   ]
  },
  {
   "cell_type": "markdown",
   "id": "6217d272-356e-4ee8-b062-cb76a1ca1448",
   "metadata": {},
   "source": [
    "Capital Loss and Capital Gain seem to have a skewed"
   ]
  },
  {
   "cell_type": "code",
   "execution_count": 26,
   "id": "09d71192-efb6-428b-8299-0f09510f9791",
   "metadata": {},
   "outputs": [
    {
     "data": {
      "image/png": "[encoded data removed]",
      "text/plain": [
       "<Figure size 432x288 with 1 Axes>"
      ]
     },
     "metadata": {
      "needs_background": "light"
     },
     "output_type": "display_data"
    }
   ],
   "source": [
    "df.education.value_counts().plot(kind=\"bar\")\n",
    "plt.xlabel(\"Education\")\n",
    "plt.ylabel(\"Number of Samples\");"
   ]
  },
  {
   "cell_type": "code",
   "execution_count": 31,
   "id": "7572960b-34ea-4e33-b583-ba4e55d5b289",
   "metadata": {},
   "outputs": [
    {
     "data": {
      "image/png": "[encoded data removed]",
      "text/plain": [
       "<Figure size 432x288 with 1 Axes>"
      ]
     },
     "metadata": {
      "needs_background": "light"
     },
     "output_type": "display_data"
    }
   ],
   "source": [
    "df.workclass.value_counts().plot(kind=\"bar\")\n",
    "plt.xlabel(\"Work Classs\")\n",
    "plt.ylabel(\"Number of Samples\");"
   ]
  },
  {
   "cell_type": "markdown",
   "id": "946f0c0a-44d8-4991-a52f-7ce3cbd7beb6",
   "metadata": {},
   "source": [
    "There are missing values in the workclass column with ' ?'"
   ]
  },
  {
   "cell_type": "code",
   "execution_count": 32,
   "id": "23df61dd-c0b8-490e-a180-cc540b66e229",
   "metadata": {},
   "outputs": [
    {
     "data": {
      "text/plain": [
       "array(['State-gov', 'Self-emp-not-inc', 'Private', 'Federal-gov',\n",
       "       'Local-gov', '?', 'Self-emp-inc', 'Without-pay', 'Never-worked'],\n",
       "      dtype=object)"
      ]
     },
     "execution_count": 32,
     "metadata": {},
     "output_type": "execute_result"
    }
   ],
   "source": [
    "df.workclass.unique()"
   ]
  },
  {
   "cell_type": "markdown",
   "id": "5d50973e-26e8-4b7a-b575-bc2e0c82ff97",
   "metadata": {},
   "source": [
    "Let's check how many of them:"
   ]
  },
  {
   "cell_type": "markdown",
   "id": "df5b5744-e725-4177-be13-d33a9ff1ce42",
   "metadata": {},
   "source": [
    "I need to figure out if there are more values like this in the dataframe, replaciong the question mark by a NaN value will help me find out how many of out are there in other columns of the dataframe."
   ]
  },
  {
   "cell_type": "code",
   "execution_count": 45,
   "id": "6e55d449-a24c-4e49-a72b-18062198ea6f",
   "metadata": {},
   "outputs": [
    {
     "data": {
      "text/plain": [
       "age                     0\n",
       "workclass               0\n",
       "final_weight            0\n",
       "education               0\n",
       "user_education_id       0\n",
       "marital_status          0\n",
       "occupation           1843\n",
       "relationship            0\n",
       "race                    0\n",
       "sex                     0\n",
       "capital_gain            0\n",
       "capital_loss            0\n",
       "hours_per_week          0\n",
       "native_country        583\n",
       "salary                  0\n",
       "dtype: int64"
      ]
     },
     "execution_count": 45,
     "metadata": {},
     "output_type": "execute_result"
    }
   ],
   "source": [
    "import numpy as np\n",
    "df.replace('?', np.nan, inplace=True)\n",
    "df.isnull().sum()"
   ]
  },
  {
   "cell_type": "markdown",
   "id": "15a05dc4-ff21-4305-b24b-13b2f0a406ec",
   "metadata": {},
   "source": [
    "I need to find out how significant are these values, visualizing the percentage of missing values will help"
   ]
  },
  {
   "cell_type": "code",
   "execution_count": 47,
   "id": "c08ef63f-d6c9-4253-a0e6-7f6fc558dab4",
   "metadata": {},
   "outputs": [
    {
     "data": {
      "text/plain": [
       "age                  0.000000\n",
       "workclass            0.000000\n",
       "final_weight         0.000000\n",
       "education            0.000000\n",
       "user_education_id    0.000000\n",
       "marital_status       0.000000\n",
       "occupation           5.660146\n",
       "relationship         0.000000\n",
       "race                 0.000000\n",
       "sex                  0.000000\n",
       "capital_gain         0.000000\n",
       "capital_loss         0.000000\n",
       "hours_per_week       0.000000\n",
       "native_country       1.790486\n",
       "salary               0.000000\n",
       "dtype: float64"
      ]
     },
     "execution_count": 47,
     "metadata": {},
     "output_type": "execute_result"
    }
   ],
   "source": [
    "length_df = len(df)\n",
    "df.isnull().sum() / length_df * 100"
   ]
  },
  {
   "cell_type": "markdown",
   "id": "301694cc-f9fc-44ee-aabe-77f1c2cb7f4f",
   "metadata": {},
   "source": [
    "Values are not very high and I don't want to add noise to my predictions by doing replacing those values with the most frequent, let's just drop them."
   ]
  },
  {
   "cell_type": "code",
   "execution_count": 49,
   "id": "9ae04b54-01c7-4ac8-b7c1-bf08bb505353",
   "metadata": {},
   "outputs": [
    {
     "name": "stdout",
     "output_type": "stream",
     "text": [
      "New shape: (30162, 15)\n"
     ]
    }
   ],
   "source": [
    "df.dropna(inplace=True)\n",
    "print(f\"New shape: {df.shape}\")"
   ]
  },
  {
   "cell_type": "markdown",
   "id": "c3ef566d-da8f-438e-a70f-952723632ccd",
   "metadata": {},
   "source": [
    "Let's keep exploring! "
   ]
  },
  {
   "cell_type": "code",
   "execution_count": 50,
   "id": "b42d2fb2-289e-48f9-b439-678286b8b1da",
   "metadata": {},
   "outputs": [
    {
     "data": {
      "image/png": "[encoded data removed]",
      "text/plain": [
       "<Figure size 432x288 with 1 Axes>"
      ]
     },
     "metadata": {
      "needs_background": "light"
     },
     "output_type": "display_data"
    }
   ],
   "source": [
    "df.workclass.value_counts().plot(kind=\"bar\")\n",
    "plt.xlabel(\"Work Classs\")\n",
    "plt.ylabel(\"Number of Samples\");"
   ]
  },
  {
   "cell_type": "code",
   "execution_count": 51,
   "id": "3343c8c1-0905-43b4-a93a-e39cc55aea06",
   "metadata": {},
   "outputs": [
    {
     "data": {
      "image/png": "[encoded data removed]",
      "text/plain": [
       "<Figure size 432x288 with 1 Axes>"
      ]
     },
     "metadata": {
      "needs_background": "light"
     },
     "output_type": "display_data"
    }
   ],
   "source": [
    "df.marital_status.value_counts().plot(kind=\"bar\")\n",
    "plt.xlabel(\"Marital Status\")\n",
    "plt.ylabel(\"Number of Samples\");"
   ]
  },
  {
   "cell_type": "code",
   "execution_count": 52,
   "id": "db6c15ac-eefd-4852-96da-d2d3cc8bbe16",
   "metadata": {},
   "outputs": [
    {
     "data": {
      "image/png": "[encoded data removed]",
      "text/plain": [
       "<Figure size 432x288 with 1 Axes>"
      ]
     },
     "metadata": {
      "needs_background": "light"
     },
     "output_type": "display_data"
    }
   ],
   "source": [
    "df.occupation.value_counts().plot(kind=\"barh\")\n",
    "plt.xlabel(\"Occupation\")\n",
    "plt.ylabel(\"Number of Samples\");"
   ]
  },
  {
   "cell_type": "code",
   "execution_count": 53,
   "id": "6a654475-21d4-41a4-bae1-3d5704e3e41e",
   "metadata": {},
   "outputs": [
    {
     "data": {
      "image/png": "[encoded data removed]",
      "text/plain": [
       "<Figure size 432x288 with 1 Axes>"
      ]
     },
     "metadata": {
      "needs_background": "light"
     },
     "output_type": "display_data"
    }
   ],
   "source": [
    "df.relationship.value_counts().plot(kind=\"bar\")\n",
    "plt.xlabel(\"Relationship\")\n",
    "plt.ylabel(\"Number of Samples\");"
   ]
  },
  {
   "cell_type": "code",
   "execution_count": 54,
   "id": "15dbc919-b73a-4465-86c9-1f5112a5da55",
   "metadata": {},
   "outputs": [
    {
     "data": {
      "image/png": "[encoded data removed]",
      "text/plain": [
       "<Figure size 432x288 with 1 Axes>"
      ]
     },
     "metadata": {
      "needs_background": "light"
     },
     "output_type": "display_data"
    }
   ],
   "source": [
    "df.race.value_counts().plot(kind=\"bar\")\n",
    "plt.xlabel(\"Race\")\n",
    "plt.ylabel(\"Number of Samples\");"
   ]
  },
  {
   "cell_type": "code",
   "execution_count": 55,
   "id": "3e3f99a0-208c-46a6-9e26-1e8440e0e212",
   "metadata": {},
   "outputs": [
    {
     "data": {
      "image/png": "[encoded data removed]",
      "text/plain": [
       "<Figure size 432x288 with 1 Axes>"
      ]
     },
     "metadata": {
      "needs_background": "light"
     },
     "output_type": "display_data"
    }
   ],
   "source": [
    "df.sex.value_counts().plot(kind=\"bar\")\n",
    "plt.xlabel(\"Sex\")\n",
    "plt.ylabel(\"Number of Samples\");"
   ]
  },
  {
   "cell_type": "code",
   "execution_count": 56,
   "id": "5b365165-85ff-4c9a-85bc-64397dc6f2fa",
   "metadata": {},
   "outputs": [
    {
     "data": {
      "text/plain": [
       "United-States                 27504\n",
       "Mexico                          610\n",
       "Philippines                     188\n",
       "Germany                         128\n",
       "Puerto-Rico                     109\n",
       "Canada                          107\n",
       "India                           100\n",
       "El-Salvador                     100\n",
       "Cuba                             92\n",
       "England                          86\n",
       "Jamaica                          80\n",
       "South                            71\n",
       "Italy                            68\n",
       "China                            68\n",
       "Dominican-Republic               67\n",
       "Vietnam                          64\n",
       "Guatemala                        63\n",
       "Japan                            59\n",
       "Poland                           56\n",
       "Columbia                         56\n",
       "Haiti                            42\n",
       "Taiwan                           42\n",
       "Iran                             42\n",
       "Portugal                         34\n",
       "Nicaragua                        33\n",
       "Peru                             30\n",
       "Greece                           29\n",
       "France                           27\n",
       "Ecuador                          27\n",
       "Ireland                          24\n",
       "Hong                             19\n",
       "Trinadad&Tobago                  18\n",
       "Cambodia                         18\n",
       "Laos                             17\n",
       "Thailand                         17\n",
       "Yugoslavia                       16\n",
       "Outlying-US(Guam-USVI-etc)       14\n",
       "Hungary                          13\n",
       "Honduras                         12\n",
       "Scotland                         11\n",
       "Holand-Netherlands                1\n",
       "Name: native_country, dtype: int64"
      ]
     },
     "execution_count": 56,
     "metadata": {},
     "output_type": "execute_result"
    }
   ],
   "source": [
    "df.native_country.value_counts()"
   ]
  },
  {
   "cell_type": "markdown",
   "id": "48812613-1819-453a-8fd3-525897077bdc",
   "metadata": {},
   "source": [
    "Visualizing the correlation between variables will certainly help which of them will be more important in the analysis."
   ]
  },
  {
   "cell_type": "code",
   "execution_count": 61,
   "id": "6996659b-6444-43ea-acac-6fc451e19b6a",
   "metadata": {},
   "outputs": [
    {
     "data": {
      "text/plain": [
       "<AxesSubplot:>"
      ]
     },
     "execution_count": 61,
     "metadata": {},
     "output_type": "execute_result"
    },
    {
     "data": {
      "image/png": "[encoded data removed]",
      "text/plain": [
       "<Figure size 432x288 with 2 Axes>"
      ]
     },
     "metadata": {
      "needs_background": "light"
     },
     "output_type": "display_data"
    }
   ],
   "source": [
    "import seaborn as sns\n",
    "sns.heatmap(\n",
    "    df.corr(), \n",
    "    xticklabels=df.corr().columns, \n",
    "    yticklabels=df.corr().columns\n",
    ")"
   ]
  },
  {
   "cell_type": "markdown",
   "id": "1be9ede3-3bf5-4c01-8f8f-92fc36404ab4",
   "metadata": {},
   "source": [
    "It's not very clear. \n",
    "Finally, I'll just replace the salary values for 1 to the people who earn more than 50K, 0 if they don't."
   ]
  },
  {
   "cell_type": "code",
   "execution_count": 65,
   "id": "e0243bdb-e87a-4095-902b-5ba45d058e32",
   "metadata": {},
   "outputs": [
    {
     "data": {
      "text/plain": [
       "array([0, 1])"
      ]
     },
     "execution_count": 65,
     "metadata": {},
     "output_type": "execute_result"
    }
   ],
   "source": [
    "df.salary.replace(\n",
    "    {\n",
    "        \"<=50K\": 0,\n",
    "        \">50K\":1\n",
    "    },\n",
    "    inplace=True\n",
    ")\n",
    "df.salary.unique()"
   ]
  },
  {
   "cell_type": "code",
   "execution_count": 66,
   "id": "143d270d-cd24-448f-9713-98492fe027db",
   "metadata": {},
   "outputs": [
    {
     "data": {
      "text/plain": [
       "<AxesSubplot:>"
      ]
     },
     "execution_count": 66,
     "metadata": {},
     "output_type": "execute_result"
    },
    {
     "data": {
      "image/png": "[encoded data removed]",
      "text/plain": [
       "<Figure size 432x288 with 1 Axes>"
      ]
     },
     "metadata": {
      "needs_background": "light"
     },
     "output_type": "display_data"
    }
   ],
   "source": [
    "df.salary.value_counts().plot(kind=\"bar\")"
   ]
  },
  {
   "cell_type": "markdown",
   "id": "1ffb19d0-a308-4618-aed1-94c9690568d8",
   "metadata": {},
   "source": [
    "Saving the new cleaned dataset:"
   ]
  },
  {
   "cell_type": "code",
   "execution_count": 67,
   "id": "e9735780-24da-4385-a29a-ab03561fa565",
   "metadata": {},
   "outputs": [],
   "source": [
    "df.to_csv(\"../data/clean_data.csv\", index=False)"
   ]
  },
  {
   "cell_type": "code",
   "execution_count": 68,
   "id": "390fcf2f-33cd-4624-9bde-879b3fa4a2f1",
   "metadata": {},
   "outputs": [],
   "source": [
    "new_df = pd.read_csv(\"../data/clean_data.csv\")"
   ]
  },
  {
   "cell_type": "code",
   "execution_count": 69,
   "id": "24c13bb4-2b19-477a-be39-eaeffd7fa09d",
   "metadata": {},
   "outputs": [
    {
     "data": {
      "text/html": [
       "<div>\n",
       "<style scoped>\n",
       "    .dataframe tbody tr th:only-of-type {\n",
       "        vertical-align: middle;\n",
       "    }\n",
       "\n",
       "    .dataframe tbody tr th {\n",
       "        vertical-align: top;\n",
       "    }\n",
       "\n",
       "    .dataframe thead th {\n",
       "        text-align: right;\n",
       "    }\n",
       "</style>\n",
       "<table border=\"1\" class=\"dataframe\">\n",
       "  <thead>\n",
       "    <tr style=\"text-align: right;\">\n",
       "      <th></th>\n",
       "      <th>age</th>\n",
       "      <th>workclass</th>\n",
       "      <th>final_weight</th>\n",
       "      <th>education</th>\n",
       "      <th>user_education_id</th>\n",
       "      <th>marital_status</th>\n",
       "      <th>occupation</th>\n",
       "      <th>relationship</th>\n",
       "      <th>race</th>\n",
       "      <th>sex</th>\n",
       "      <th>capital_gain</th>\n",
       "      <th>capital_loss</th>\n",
       "      <th>hours_per_week</th>\n",
       "      <th>native_country</th>\n",
       "      <th>salary</th>\n",
       "    </tr>\n",
       "  </thead>\n",
       "  <tbody>\n",
       "    <tr>\n",
       "      <th>0</th>\n",
       "      <td>39</td>\n",
       "      <td>State-gov</td>\n",
       "      <td>77516</td>\n",
       "      <td>Bachelors</td>\n",
       "      <td>13</td>\n",
       "      <td>Never-married</td>\n",
       "      <td>Adm-clerical</td>\n",
       "      <td>Not-in-family</td>\n",
       "      <td>White</td>\n",
       "      <td>Male</td>\n",
       "      <td>2174</td>\n",
       "      <td>0</td>\n",
       "      <td>40</td>\n",
       "      <td>United-States</td>\n",
       "      <td>0</td>\n",
       "    </tr>\n",
       "    <tr>\n",
       "      <th>1</th>\n",
       "      <td>50</td>\n",
       "      <td>Self-emp-not-inc</td>\n",
       "      <td>83311</td>\n",
       "      <td>Bachelors</td>\n",
       "      <td>13</td>\n",
       "      <td>Married-civ-spouse</td>\n",
       "      <td>Exec-managerial</td>\n",
       "      <td>Husband</td>\n",
       "      <td>White</td>\n",
       "      <td>Male</td>\n",
       "      <td>0</td>\n",
       "      <td>0</td>\n",
       "      <td>13</td>\n",
       "      <td>United-States</td>\n",
       "      <td>0</td>\n",
       "    </tr>\n",
       "    <tr>\n",
       "      <th>2</th>\n",
       "      <td>38</td>\n",
       "      <td>Private</td>\n",
       "      <td>215646</td>\n",
       "      <td>HS-grad</td>\n",
       "      <td>9</td>\n",
       "      <td>Divorced</td>\n",
       "      <td>Handlers-cleaners</td>\n",
       "      <td>Not-in-family</td>\n",
       "      <td>White</td>\n",
       "      <td>Male</td>\n",
       "      <td>0</td>\n",
       "      <td>0</td>\n",
       "      <td>40</td>\n",
       "      <td>United-States</td>\n",
       "      <td>0</td>\n",
       "    </tr>\n",
       "    <tr>\n",
       "      <th>3</th>\n",
       "      <td>53</td>\n",
       "      <td>Private</td>\n",
       "      <td>234721</td>\n",
       "      <td>11th</td>\n",
       "      <td>7</td>\n",
       "      <td>Married-civ-spouse</td>\n",
       "      <td>Handlers-cleaners</td>\n",
       "      <td>Husband</td>\n",
       "      <td>Black</td>\n",
       "      <td>Male</td>\n",
       "      <td>0</td>\n",
       "      <td>0</td>\n",
       "      <td>40</td>\n",
       "      <td>United-States</td>\n",
       "      <td>0</td>\n",
       "    </tr>\n",
       "    <tr>\n",
       "      <th>4</th>\n",
       "      <td>28</td>\n",
       "      <td>Private</td>\n",
       "      <td>338409</td>\n",
       "      <td>Bachelors</td>\n",
       "      <td>13</td>\n",
       "      <td>Married-civ-spouse</td>\n",
       "      <td>Prof-specialty</td>\n",
       "      <td>Wife</td>\n",
       "      <td>Black</td>\n",
       "      <td>Female</td>\n",
       "      <td>0</td>\n",
       "      <td>0</td>\n",
       "      <td>40</td>\n",
       "      <td>Cuba</td>\n",
       "      <td>0</td>\n",
       "    </tr>\n",
       "  </tbody>\n",
       "</table>\n",
       "</div>"
      ],
      "text/plain": [
       "   age         workclass  final_weight  education  user_education_id  \\\n",
       "0   39         State-gov         77516  Bachelors                 13   \n",
       "1   50  Self-emp-not-inc         83311  Bachelors                 13   \n",
       "2   38           Private        215646    HS-grad                  9   \n",
       "3   53           Private        234721       11th                  7   \n",
       "4   28           Private        338409  Bachelors                 13   \n",
       "\n",
       "       marital_status         occupation   relationship   race     sex  \\\n",
       "0       Never-married       Adm-clerical  Not-in-family  White    Male   \n",
       "1  Married-civ-spouse    Exec-managerial        Husband  White    Male   \n",
       "2            Divorced  Handlers-cleaners  Not-in-family  White    Male   \n",
       "3  Married-civ-spouse  Handlers-cleaners        Husband  Black    Male   \n",
       "4  Married-civ-spouse     Prof-specialty           Wife  Black  Female   \n",
       "\n",
       "   capital_gain  capital_loss  hours_per_week native_country  salary  \n",
       "0          2174             0              40  United-States       0  \n",
       "1             0             0              13  United-States       0  \n",
       "2             0             0              40  United-States       0  \n",
       "3             0             0              40  United-States       0  \n",
       "4             0             0              40           Cuba       0  "
      ]
     },
     "execution_count": 69,
     "metadata": {},
     "output_type": "execute_result"
    }
   ],
   "source": [
    "new_df.head()"
   ]
  },
  {
   "cell_type": "code",
   "execution_count": null,
   "id": "10c5c6fd-6fc2-4b94-ab8b-ab0e3809f9f6",
   "metadata": {},
   "outputs": [],
   "source": []
  }
 ],
 "metadata": {
  "kernelspec": {
   "display_name": "Python 3.6.13 64-bit ('mlops': conda)",
   "language": "python",
   "name": "python3613jvsc74a57bd0ca9cbc678ce4b6edf4607da2742a10dd8519fe2f3e82dadaab70e9238baed1d4"
  },
  "language_info": {
   "codemirror_mode": {
    "name": "ipython",
    "version": 3
   },
   "file_extension": ".py",
   "mimetype": "text/x-python",
   "name": "python",
   "nbconvert_exporter": "python",
   "pygments_lexer": "ipython3",
   "version": "3.6.13"
  }
 },
 "nbformat": 4,
 "nbformat_minor": 5
}
