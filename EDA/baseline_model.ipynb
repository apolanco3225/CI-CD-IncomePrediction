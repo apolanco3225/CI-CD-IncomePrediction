{
 "cells": [
  {
   "cell_type": "code",
   "execution_count": 1,
   "id": "18d25c61-00f7-4e32-b5bb-9279678760b4",
   "metadata": {},
   "outputs": [
    {
     "data": {
      "text/html": [
       "<div>\n",
       "<style scoped>\n",
       "    .dataframe tbody tr th:only-of-type {\n",
       "        vertical-align: middle;\n",
       "    }\n",
       "\n",
       "    .dataframe tbody tr th {\n",
       "        vertical-align: top;\n",
       "    }\n",
       "\n",
       "    .dataframe thead th {\n",
       "        text-align: right;\n",
       "    }\n",
       "</style>\n",
       "<table border=\"1\" class=\"dataframe\">\n",
       "  <thead>\n",
       "    <tr style=\"text-align: right;\">\n",
       "      <th></th>\n",
       "      <th>age</th>\n",
       "      <th>workclass</th>\n",
       "      <th>final_weight</th>\n",
       "      <th>education</th>\n",
       "      <th>user_education_id</th>\n",
       "      <th>marital_status</th>\n",
       "      <th>occupation</th>\n",
       "      <th>relationship</th>\n",
       "      <th>race</th>\n",
       "      <th>sex</th>\n",
       "      <th>capital_gain</th>\n",
       "      <th>capital_loss</th>\n",
       "      <th>hours_per_week</th>\n",
       "      <th>native_country</th>\n",
       "      <th>salary</th>\n",
       "    </tr>\n",
       "  </thead>\n",
       "  <tbody>\n",
       "    <tr>\n",
       "      <th>0</th>\n",
       "      <td>39</td>\n",
       "      <td>State-gov</td>\n",
       "      <td>77516</td>\n",
       "      <td>Bachelors</td>\n",
       "      <td>13</td>\n",
       "      <td>Never-married</td>\n",
       "      <td>Adm-clerical</td>\n",
       "      <td>Not-in-family</td>\n",
       "      <td>White</td>\n",
       "      <td>Male</td>\n",
       "      <td>2174</td>\n",
       "      <td>0</td>\n",
       "      <td>40</td>\n",
       "      <td>United-States</td>\n",
       "      <td>0</td>\n",
       "    </tr>\n",
       "    <tr>\n",
       "      <th>1</th>\n",
       "      <td>50</td>\n",
       "      <td>Self-emp-not-inc</td>\n",
       "      <td>83311</td>\n",
       "      <td>Bachelors</td>\n",
       "      <td>13</td>\n",
       "      <td>Married-civ-spouse</td>\n",
       "      <td>Exec-managerial</td>\n",
       "      <td>Husband</td>\n",
       "      <td>White</td>\n",
       "      <td>Male</td>\n",
       "      <td>0</td>\n",
       "      <td>0</td>\n",
       "      <td>13</td>\n",
       "      <td>United-States</td>\n",
       "      <td>0</td>\n",
       "    </tr>\n",
       "    <tr>\n",
       "      <th>2</th>\n",
       "      <td>38</td>\n",
       "      <td>Private</td>\n",
       "      <td>215646</td>\n",
       "      <td>HS-grad</td>\n",
       "      <td>9</td>\n",
       "      <td>Divorced</td>\n",
       "      <td>Handlers-cleaners</td>\n",
       "      <td>Not-in-family</td>\n",
       "      <td>White</td>\n",
       "      <td>Male</td>\n",
       "      <td>0</td>\n",
       "      <td>0</td>\n",
       "      <td>40</td>\n",
       "      <td>United-States</td>\n",
       "      <td>0</td>\n",
       "    </tr>\n",
       "    <tr>\n",
       "      <th>3</th>\n",
       "      <td>53</td>\n",
       "      <td>Private</td>\n",
       "      <td>234721</td>\n",
       "      <td>11th</td>\n",
       "      <td>7</td>\n",
       "      <td>Married-civ-spouse</td>\n",
       "      <td>Handlers-cleaners</td>\n",
       "      <td>Husband</td>\n",
       "      <td>Black</td>\n",
       "      <td>Male</td>\n",
       "      <td>0</td>\n",
       "      <td>0</td>\n",
       "      <td>40</td>\n",
       "      <td>United-States</td>\n",
       "      <td>0</td>\n",
       "    </tr>\n",
       "    <tr>\n",
       "      <th>4</th>\n",
       "      <td>28</td>\n",
       "      <td>Private</td>\n",
       "      <td>338409</td>\n",
       "      <td>Bachelors</td>\n",
       "      <td>13</td>\n",
       "      <td>Married-civ-spouse</td>\n",
       "      <td>Prof-specialty</td>\n",
       "      <td>Wife</td>\n",
       "      <td>Black</td>\n",
       "      <td>Female</td>\n",
       "      <td>0</td>\n",
       "      <td>0</td>\n",
       "      <td>40</td>\n",
       "      <td>Cuba</td>\n",
       "      <td>0</td>\n",
       "    </tr>\n",
       "  </tbody>\n",
       "</table>\n",
       "</div>"
      ],
      "text/plain": [
       "   age         workclass  final_weight  education  user_education_id  \\\n",
       "0   39         State-gov         77516  Bachelors                 13   \n",
       "1   50  Self-emp-not-inc         83311  Bachelors                 13   \n",
       "2   38           Private        215646    HS-grad                  9   \n",
       "3   53           Private        234721       11th                  7   \n",
       "4   28           Private        338409  Bachelors                 13   \n",
       "\n",
       "       marital_status         occupation   relationship   race     sex  \\\n",
       "0       Never-married       Adm-clerical  Not-in-family  White    Male   \n",
       "1  Married-civ-spouse    Exec-managerial        Husband  White    Male   \n",
       "2            Divorced  Handlers-cleaners  Not-in-family  White    Male   \n",
       "3  Married-civ-spouse  Handlers-cleaners        Husband  Black    Male   \n",
       "4  Married-civ-spouse     Prof-specialty           Wife  Black  Female   \n",
       "\n",
       "   capital_gain  capital_loss  hours_per_week native_country  salary  \n",
       "0          2174             0              40  United-States       0  \n",
       "1             0             0              13  United-States       0  \n",
       "2             0             0              40  United-States       0  \n",
       "3             0             0              40  United-States       0  \n",
       "4             0             0              40           Cuba       0  "
      ]
     },
     "execution_count": 1,
     "metadata": {},
     "output_type": "execute_result"
    }
   ],
   "source": [
    "import pandas as pd\n",
    "\n",
    "df = pd.read_csv(\"../data/clean_data.csv\")\n",
    "df.head()"
   ]
  },
  {
   "cell_type": "code",
   "execution_count": 2,
   "id": "2f8eb775-1d84-4698-be4e-bf76853e2895",
   "metadata": {},
   "outputs": [
    {
     "name": "stdout",
     "output_type": "stream",
     "text": [
      "<class 'pandas.core.frame.DataFrame'>\n",
      "RangeIndex: 30162 entries, 0 to 30161\n",
      "Data columns (total 15 columns):\n",
      " #   Column             Non-Null Count  Dtype \n",
      "---  ------             --------------  ----- \n",
      " 0   age                30162 non-null  int64 \n",
      " 1   workclass          30162 non-null  object\n",
      " 2   final_weight       30162 non-null  int64 \n",
      " 3   education          30162 non-null  object\n",
      " 4   user_education_id  30162 non-null  int64 \n",
      " 5   marital_status     30162 non-null  object\n",
      " 6   occupation         30162 non-null  object\n",
      " 7   relationship       30162 non-null  object\n",
      " 8   race               30162 non-null  object\n",
      " 9   sex                30162 non-null  object\n",
      " 10  capital_gain       30162 non-null  int64 \n",
      " 11  capital_loss       30162 non-null  int64 \n",
      " 12  hours_per_week     30162 non-null  int64 \n",
      " 13  native_country     30162 non-null  object\n",
      " 14  salary             30162 non-null  int64 \n",
      "dtypes: int64(7), object(8)\n",
      "memory usage: 3.5+ MB\n"
     ]
    }
   ],
   "source": [
    "df.info()"
   ]
  },
  {
   "cell_type": "code",
   "execution_count": 3,
   "id": "04405e1b-1841-4ad2-b266-294cd24d5f2c",
   "metadata": {},
   "outputs": [],
   "source": [
    "from sklearn.model_selection import train_test_split"
   ]
  },
  {
   "cell_type": "code",
   "execution_count": 4,
   "id": "f984b3bb-9f2f-4d13-ac18-b3d50ac936d4",
   "metadata": {},
   "outputs": [],
   "source": [
    "target = df.pop(\"salary\")\n",
    "features = df"
   ]
  },
  {
   "cell_type": "code",
   "execution_count": 5,
   "id": "fac2c2ea-35ac-40f4-bfad-bc46b3fc9769",
   "metadata": {},
   "outputs": [
    {
     "name": "stdout",
     "output_type": "stream",
     "text": [
      "<class 'pandas.core.frame.DataFrame'>\n",
      "RangeIndex: 30162 entries, 0 to 30161\n",
      "Data columns (total 14 columns):\n",
      " #   Column             Non-Null Count  Dtype \n",
      "---  ------             --------------  ----- \n",
      " 0   age                30162 non-null  int64 \n",
      " 1   workclass          30162 non-null  object\n",
      " 2   final_weight       30162 non-null  int64 \n",
      " 3   education          30162 non-null  object\n",
      " 4   user_education_id  30162 non-null  int64 \n",
      " 5   marital_status     30162 non-null  object\n",
      " 6   occupation         30162 non-null  object\n",
      " 7   relationship       30162 non-null  object\n",
      " 8   race               30162 non-null  object\n",
      " 9   sex                30162 non-null  object\n",
      " 10  capital_gain       30162 non-null  int64 \n",
      " 11  capital_loss       30162 non-null  int64 \n",
      " 12  hours_per_week     30162 non-null  int64 \n",
      " 13  native_country     30162 non-null  object\n",
      "dtypes: int64(6), object(8)\n",
      "memory usage: 3.2+ MB\n"
     ]
    }
   ],
   "source": [
    "features.info()"
   ]
  },
  {
   "cell_type": "code",
   "execution_count": 6,
   "id": "cf68a392-cfc0-444e-b29f-83a525d94cc2",
   "metadata": {},
   "outputs": [],
   "source": [
    "train_features, test_features, train_target, test_target = train_test_split(\n",
    "    features, \n",
    "    target,\n",
    "    train_size=0.2, \n",
    "    random_state=1\n",
    ")"
   ]
  },
  {
   "cell_type": "code",
   "execution_count": 7,
   "id": "ed6d481a-edee-49a1-afe4-f2981cb729a0",
   "metadata": {},
   "outputs": [
    {
     "name": "stderr",
     "output_type": "stream",
     "text": [
      "/Users/arturopolancolozano/opt/anaconda3/envs/mlops/lib/python3.6/site-packages/sklearn/linear_model/_logistic.py:765: ConvergenceWarning: lbfgs failed to converge (status=1):\n",
      "STOP: TOTAL NO. of ITERATIONS REACHED LIMIT.\n",
      "\n",
      "Increase the number of iterations (max_iter) or scale the data as shown in:\n",
      "    https://scikit-learn.org/stable/modules/preprocessing.html\n",
      "Please also refer to the documentation for alternative solver options:\n",
      "    https://scikit-learn.org/stable/modules/linear_model.html#logistic-regression\n",
      "  extra_warning_msg=_LOGISTIC_SOLVER_CONVERGENCE_MSG)\n"
     ]
    },
    {
     "data": {
      "text/plain": [
       "Pipeline(steps=[('columntransformer',\n",
       "                 ColumnTransformer(transformers=[('cat_transform',\n",
       "                                                  OneHotEncoder(handle_unknown='ignore'),\n",
       "                                                  ['workclass', 'education',\n",
       "                                                   'marital_status',\n",
       "                                                   'occupation', 'relationship',\n",
       "                                                   'race', 'sex',\n",
       "                                                   'native_country']),\n",
       "                                                 ('num_transform',\n",
       "                                                  StandardScaler(),\n",
       "                                                  ['age', 'final_weight',\n",
       "                                                   'user_education_id',\n",
       "                                                   'capital_gain',\n",
       "                                                   'capital_loss',\n",
       "                                                   'hours_per_week'])])),\n",
       "                ('logisticregression', LogisticRegression())])"
      ]
     },
     "execution_count": 7,
     "metadata": {},
     "output_type": "execute_result"
    }
   ],
   "source": [
    "from sklearn.linear_model import LogisticRegression\n",
    "from sklearn.pipeline import Pipeline, make_pipeline\n",
    "from sklearn.preprocessing import StandardScaler, OneHotEncoder\n",
    "from sklearn.compose import ColumnTransformer\n",
    "\n",
    "\n",
    "categorical_preproc = OneHotEncoder(handle_unknown=\"ignore\")\n",
    "categorical_feature_list =  [\"workclass\", \"education\", \"marital_status\", \"occupation\", \"relationship\", \"race\", \"sex\", \"native_country\"]\n",
    "numerical_preprocessing = StandardScaler()\n",
    "numerical_feature_list= [\"age\",\"final_weight\", \"user_education_id\", \"capital_gain\", \"capital_loss\", \"hours_per_week\"]\n",
    "preproc = ColumnTransformer(\n",
    "    transformers=[\n",
    "        (\"cat_transform\", categorical_preproc, categorical_feature_list),\n",
    "        (\"num_transform\", numerical_preprocessing, numerical_feature_list)\n",
    "    ],\n",
    ")\n",
    "pipe = make_pipeline(preproc, LogisticRegression())\n",
    "pipe.fit(train_features, train_target)\n"
   ]
  },
  {
   "cell_type": "code",
   "execution_count": 8,
   "id": "5d4b0289-95ec-47ed-8b9a-58923754475b",
   "metadata": {},
   "outputs": [
    {
     "data": {
      "text/plain": [
       "0.8459880636604774"
      ]
     },
     "execution_count": 8,
     "metadata": {},
     "output_type": "execute_result"
    }
   ],
   "source": [
    "pipe.score(train_features, train_target)"
   ]
  },
  {
   "cell_type": "code",
   "execution_count": 11,
   "id": "7bff61f8-0ef2-4145-982a-d900a97d4279",
   "metadata": {},
   "outputs": [
    {
     "data": {
      "text/plain": [
       "0.8488603398259428"
      ]
     },
     "execution_count": 11,
     "metadata": {},
     "output_type": "execute_result"
    }
   ],
   "source": [
    "pipe.score(test_features, test_target)"
   ]
  },
  {
   "cell_type": "code",
   "execution_count": 13,
   "id": "85534e09-cecb-4e69-9d61-02584f15f36b",
   "metadata": {},
   "outputs": [
    {
     "data": {
      "text/plain": [
       "['../starter/model/model.pkl']"
      ]
     },
     "execution_count": 13,
     "metadata": {},
     "output_type": "execute_result"
    }
   ],
   "source": [
    "import joblib\n",
    "joblib.dump(pipe, '../starter/model/model.pkl')"
   ]
  },
  {
   "cell_type": "code",
   "execution_count": null,
   "id": "34762664-630a-44f4-a3b3-105a2c427c88",
   "metadata": {},
   "outputs": [],
   "source": []
  }
 ],
 "metadata": {
  "kernelspec": {
   "display_name": "Python 3.6.13 64-bit ('mlops': conda)",
   "language": "python",
   "name": "python3613jvsc74a57bd0ca9cbc678ce4b6edf4607da2742a10dd8519fe2f3e82dadaab70e9238baed1d4"
  },
  "language_info": {
   "codemirror_mode": {
    "name": "ipython",
    "version": 3
   },
   "file_extension": ".py",
   "mimetype": "text/x-python",
   "name": "python",
   "nbconvert_exporter": "python",
   "pygments_lexer": "ipython3",
   "version": "3.6.13"
  }
 },
 "nbformat": 4,
 "nbformat_minor": 5
}
